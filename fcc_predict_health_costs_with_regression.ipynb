{
  "cells": [
    {
      "cell_type": "code",
      "execution_count": null,
      "metadata": {
        "id": "1rRo8oNqZ-Rj"
      },
      "outputs": [],
      "source": [
        "\n",
        "# Import libraries. You may or may not use all of these.\n",
        "!pip install -q git+https://github.com/tensorflow/docs\n",
        "import matplotlib.pyplot as plt\n",
        "import numpy as np\n",
        "import pandas as pd\n",
        "\n",
        "try:\n",
        "  # %tensorflow_version only exists in Colab.\n",
        "  %tensorflow_version 2.x\n",
        "except Exception:\n",
        "  pass\n",
        "import tensorflow as tf\n",
        "\n",
        "from tensorflow import keras\n",
        "from tensorflow.keras import layers\n",
        "\n",
        "import tensorflow_docs as tfdocs\n",
        "import tensorflow_docs.plots\n",
        "import tensorflow_docs.modeling"
      ]
    },
    {
      "cell_type": "code",
      "execution_count": null,
      "metadata": {
        "id": "CiX2FI4gZtTt"
      },
      "outputs": [],
      "source": [
        "# Import data\n",
        "!wget https://cdn.freecodecamp.org/project-data/health-costs/insurance.csv\n",
        "dataset = pd.read_csv('insurance.csv')\n",
        "dataset.tail()"
      ]
    },
    {
      "cell_type": "code",
      "execution_count": null,
      "metadata": {
        "id": "LcopvQh3X-kX"
      },
      "outputs": [],
      "source": [
        "# Convert categorical features to numerical using one-hot encoding\n",
        "dataset = pd.get_dummies(dataset, columns=['sex', 'smoker', 'region'], drop_first=True)\n",
        "\n",
        "# Split data into features (X) and labels (y)\n",
        "labels = dataset['expenses']\n",
        "features = dataset.drop('expenses', axis=1)\n",
        "\n",
        "# Split data into training and testing sets (80/20 split)\n",
        "from sklearn.model_selection import train_test_split\n",
        "\n",
        "train_dataset, test_dataset, train_labels, test_labels = train_test_split(\n",
        "    features, labels, test_size=0.2, random_state=42\n",
        ")\n",
        "\n",
        "# Display the first few rows of the training dataset and labels to verify\n",
        "print(\"Training Features:\")\n",
        "print(train_dataset.head())\n",
        "print(\"\\nTraining Labels:\")\n",
        "print(train_labels.head())"
      ]
    },
    {
      "cell_type": "code",
      "source": [
        "# Build the model\n",
        "model = keras.Sequential([\n",
        "    layers.Dense(64, activation='relu', input_shape=[len(train_dataset.keys())]),\n",
        "    layers.Dense(64, activation='relu'),\n",
        "    layers.Dense(1)  # Output layer with a single neuron for regression\n",
        "])\n",
        "\n",
        "# Compile the model\n",
        "optimizer = tf.keras.optimizers.RMSprop(0.001)\n",
        "model.compile(loss='mse',\n",
        "              optimizer=optimizer,\n",
        "              metrics=['mae', 'mse'])\n",
        "\n",
        "# Display the model summary to see the layers and parameters\n",
        "model.summary()\n",
        "\n",
        "# Train the model\n",
        "EPOCHS = 100  # You might need to adjust the number of epochs\n",
        "\n",
        "history = model.fit(\n",
        "    train_dataset, train_labels,\n",
        "    epochs=EPOCHS, validation_split=0.2, verbose=0,\n",
        "    callbacks=[tfdocs.modeling.EpochDots()]\n",
        ")\n",
        "\n",
        "# You can optionally plot the training history to see how the loss and metrics changed over epochs\n",
        "# plotter = tfdocs.plots.HistoryPlotter(smoothing_std=2)\n",
        "# plotter.plot(history)\n",
        "# plt.ylim([0, 10000])\n",
        "# plt.ylabel('MAE [expenses]')"
      ],
      "metadata": {
        "id": "bYImtra22kMF"
      },
      "execution_count": null,
      "outputs": []
    },
    {
      "cell_type": "code",
      "execution_count": null,
      "metadata": {
        "id": "Xe7RXH3N3CWU"
      },
      "outputs": [],
      "source": [
        "# RUN THIS CELL TO TEST YOUR MODEL. DO NOT MODIFY CONTENTS.\n",
        "# Test model by checking how well the model generalizes using the test set.\n",
        "loss, mae, mse = model.evaluate(test_dataset, test_labels, verbose=2)\n",
        "\n",
        "print(\"Testing set Mean Abs Error: {:5.2f} expenses\".format(mae))\n",
        "\n",
        "if mae < 3500:\n",
        "  print(\"You passed the challenge. Great job!\")\n",
        "else:\n",
        "  print(\"The Mean Abs Error must be less than 3500. Keep trying.\")\n",
        "\n",
        "# Plot predictions.\n",
        "test_predictions = model.predict(test_dataset).flatten()\n",
        "\n",
        "a = plt.axes(aspect='equal')\n",
        "plt.scatter(test_labels, test_predictions)\n",
        "plt.xlabel('True values (expenses)')\n",
        "plt.ylabel('Predictions (expenses)')\n",
        "lims = [0, 50000]\n",
        "plt.xlim(lims)\n",
        "plt.ylim(lims)\n",
        "_ = plt.plot(lims,lims)\n"
      ]
    }
  ],
  "metadata": {
    "colab": {
      "name": "fcc_predict_health_costs_with_regression.ipynb",
      "private_outputs": true,
      "provenance": []
    },
    "kernelspec": {
      "display_name": "Python 3",
      "name": "python3"
    }
  },
  "nbformat": 4,
  "nbformat_minor": 0
}